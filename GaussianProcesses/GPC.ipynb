{
 "cells": [
  {
   "cell_type": "markdown",
   "metadata": {},
   "source": [
    "# Gausssian Process for Classification - GPC\n",
    "In Gussian Process Regrassion we had an analyticaly traceable posterior and prediction distribution but as we will see that is not the case with GPC and we will need to use approximating methods for derving terms for these distributions\\footnote{hi}. In our first step we will try GP in binary classification case. Similar to GPR we will use a gaussian latent function but for likelihood we will squash the values with another response function. There can be multiple choices for the response function such as logistic function and cumulative gaussian (probit), and here we will use the probit. \n",
    "\n",
    "We compress the output of a GP (over the latent function f(x)) to the range [0:1] through probit function and the result will denote the class membership probabilities. We first need to compute the distribution of the latent variable:\n",
    "\n",
    "\\begin{equation}\n",
    "p(f_* | f) = \\int p(f_*|X,x_*,f)p(f|X,y)df=N(K_*K^{-1}\\hat{f},K_{**}-K_*(K')^{-1}K_*^T)\n",
    "\\end{equation}\n",
    "\n",
    "Then we want the class membership probabilities, here $\\pi_*=\\Phi (f_*)$, whose expected value will be:\n",
    "\n",
    "\\begin{equation}\n",
    "\\bar{\\pi_*} = \\int \\pi(f_*)p(f_*|f)df_*\n",
    "\\end{equation}\n",
    "\n",
    "Finding $\\hat f$ and $K'$:\n",
    "\n",
    "\\begin{equation}\n",
    "p(f|X,y) = \\frac{p(y|f)p(f|x)}{p(y|x)}\n",
    "\\end{equation}\n",
    "\n",
    "P(f|x,y) does not have an analytic form so we use Laplace approximation by pretending that it is a guassian:\n",
    "\n",
    "\\begin{equation}\n",
    "p(f|x,y) \\sim q(f|x,y) = N(\\hat f, A^{-1})\n",
    "\\end{equation}\n",
    "\n",
    "we have the probit likelihood $p(y|f) = \\prod^n_{i=1} p(y_i|f_i) = \\Phi(yf)$ and for p(f|x) we would like values that maximize the posterior probability p(f|x,y). So we set derivative of its logarithem to zero \n",
    "\n",
    "\\begin{align*}\n",
    "\\Psi(f) \\triangleq log p(y|f) + log p(f|X),\\\\\n",
    "\\nabla \\Psi(f) = \\nabla logp(y|f) - K^{-1}f,\\\\\n",
    "\\nabla \\nabla \\Psi(f) = \\nabla \\nabla logp(y|f) - K^{-1} = -W -K^{-1},\\\\\n",
    "\\end{align*}\n",
    "\n",
    "\n",
    "and gain a recursive equation \n",
    "\n",
    "\\begin{equation}\n",
    "\\hat f = K \\nabla log p(y|\\hat f)\n",
    "\\end{equation}\n",
    "\n",
    "We use newton's method with f_0 = 0 and equation 3.18 from GPML\n",
    "\n",
    "\\begin{equation}\n",
    "f^{new}=(K^{-1}+W)^{-1}(Wf+\\nabla logp(y|f) )\n",
    "\\end{equation}\n",
    "\n",
    "and in the end we have (eq. 3.20 GPML)\n",
    "\n",
    "\\begin{equation}\n",
    "q(f|X,y) = N(\\hat f, (W+K^{-1})^{-1})\n",
    "\\end{equation}\n",
    "\n",
    "For prediction we have (cumulative Gausian function for squashing)\n",
    "$$\n",
    "\\begin{align*}\n",
    "p(f_* | f) = N(K_*K^{-1}\\hat{f},K_{**}-K_*(K')^{-1}K_*^T)\\\\\n",
    "K' = K + W^{-1}\\\\\n",
    "\\bar{\\pi_*} \\stackrel{GMPL 3.9}{=} \\Phi \\big(\\frac{\\bar{f_*}}{\\sqrt{1+var(f_*)}}\\big)\n",
    "\\end{align*}\n",
    "$$\n",
    "\n",
    "Further numerically stable implementation considerations can be found in section 3.4.3 of GPML book."
   ]
  },
  {
   "cell_type": "code",
   "execution_count": 1,
   "metadata": {
    "collapsed": false
   },
   "outputs": [],
   "source": [
    "import numpy as np\n",
    "import matplotlib.pyplot as plt\n",
    "from scipy.stats import norm\n",
    "from scipy.optimize import fmin\n",
    "from scipy.linalg import cholesky, cho_solve, inv\n",
    "\n",
    "#np.set_printoptions(formatter={'float': '{: 0.4f}'.format})\n",
    "\n",
    "%matplotlib inline\n",
    "%load_ext autoreload\n",
    "%autoreload 2"
   ]
  },
  {
   "cell_type": "markdown",
   "metadata": {},
   "source": [
    "We will define kernel function here:"
   ]
  },
  {
   "cell_type": "code",
   "execution_count": 2,
   "metadata": {
    "collapsed": false
   },
   "outputs": [],
   "source": [
    "def get_kernel(X1,X2,sigmaf,l,sigman):\n",
    "    k = lambda x1,x2,sigmaf,l,sigman:(sigmaf**2)*np.exp(-(1/float(2*(l**2)))*np.dot((x1-x2),(x1-x2).T)) + (sigman**2);\n",
    "    K = np.zeros((X1.shape[0],X2.shape[0]))\n",
    "    for i in range(0,X1.shape[0]):\n",
    "        for j in range(0,X2.shape[0]):\n",
    "            if i==j:\n",
    "                K[i,j] = k(X1[i,:],X2[j,:],sigmaf,l,sigman);\n",
    "            else:\n",
    "                K[i,j] = k(X1[i,:],X2[j,:],sigmaf,l,0);\n",
    "    return K"
   ]
  },
  {
   "cell_type": "code",
   "execution_count": 37,
   "metadata": {
    "collapsed": false
   },
   "outputs": [
    {
     "data": {
      "image/png": "[encoded data removed]",
      "text/plain": [
       "<matplotlib.figure.Figure at 0x9306650>"
      ]
     },
     "metadata": {},
     "output_type": "display_data"
    }
   ],
   "source": [
    "n1 = 100; n2 = 60; # number of elements in each class\n",
    "\n",
    "S1 = np.eye(2); S2 = np.array([[1,0.95],[0.95,1]])\n",
    "m1 = np.array([0.75, 0]);m2 = np.array([-0.75, 0])\n",
    "\n",
    "\n",
    "x1 = np.random.multivariate_normal(m1,S1,n1); y1 = -1*np.ones([n1,1]);\n",
    "x2 = np.random.multivariate_normal(m2,S2,n2); y2 = np.ones([n2,1]);\n",
    "\n",
    "x = np.concatenate((x1[0:50,:], x2[0:30,:]), axis=0);\n",
    "y = np.concatenate((y1[0:50,:], y2[0:30,:]), axis=0);\n",
    "\n",
    "x_test = np.concatenate((x1[50:,:], x2[30:,:]), axis=0); \n",
    "y_test = np.concatenate((y1[50:,:], y2[30:,:]), axis=0); \n",
    "\n",
    "plt.plot(x[y[:,0]==1,0], x[y[:,0]==1,1], 'r+', x[y[:,0]==-1,0], x[y[:,0]==-1,1], 'b+')\n",
    "plt.plot(x_test[y_test[:,0]==1,0], x_test[y_test[:,0]==1,1], 'r+', x_test[y_test[:,0]==-1,0], x_test[y_test[:,0]==-1,1], 'b+')\n",
    "\n",
    "plt.axis([-4, 4, -4, 4])\n",
    "\n",
    "plt.show()"
   ]
  },
  {
   "cell_type": "markdown",
   "metadata": {},
   "source": [
    "## Predictive gaussian parameter finding (with gaussian cumulative likelihood)\n",
    "based on algo 3.1 page 65 GPML book"
   ]
  },
  {
   "cell_type": "code",
   "execution_count": 38,
   "metadata": {
    "collapsed": false
   },
   "outputs": [
    {
     "name": "stdout",
     "output_type": "stream",
     "text": [
      "inf\n",
      "FOUND! 0.000455 at 6 iteration!\n"
     ]
    }
   ],
   "source": [
    "sigmaf = 1; l = 1; sigman = 1;# non optimum values\n",
    "\n",
    "K = get_kernel(x,x,sigmaf,l,sigman);\n",
    "# K = K + np.finfo(float).eps*np.eye(x.shape[0]);#for stability\n",
    "K = nearestSPD(K);\n",
    "f = np.zeros_like(y);\n",
    "\n",
    "old_log_marg = np.inf; new_log_marg = 0; \n",
    "it = 0; maxit=10000;\n",
    "for it in range(maxit): #newton iterations\n",
    "    npf = norm.pdf(f); cpyf = norm.cdf(y*f);\n",
    "    \n",
    "    dlp = y*npf/cpyf #3.16\n",
    "    d2lp = -npf**2/cpyf**2 - y*f*npf/cpyf # 3.16\n",
    "\n",
    "    W = -1.*d2lp; sW = np.sqrt(W)\n",
    "    B = np.eye(x.shape[0])+sW*K*sW #B=I+sqrt(W)*K*sqrt(W)\n",
    "    \n",
    "    #B = make_PD(B)\n",
    "    B = nearestSPD(B)\n",
    "    \n",
    "    L = cholesky(B, lower=True)\n",
    "    b = W*f + dlp; # 3.18 part 1\n",
    "    a = b - sW * cho_solve((L, True),np.dot(sW*K,b)) # b - sW.*(L'\\(L\\(sW.*K*b)))\n",
    "    f = K.dot(a)\n",
    "    \n",
    "    new_log_marg = -0.5 * a.T.dot(f) \\\n",
    "                + np.log(norm.cdf(y*f)).sum() \\\n",
    "                - np.log(np.diag(L)).sum()\n",
    "    if it%10==0: \n",
    "        print '%e'%abs(new_log_marg - old_log_marg)\n",
    "    if abs(new_log_marg - old_log_marg) < 1e-3: # need to adapt step sizes\n",
    "        print('FOUND! %f at %d iteration!'%(abs(new_log_marg - old_log_marg),it))\n",
    "        break\n",
    "    else:\n",
    "        old_log_marg = new_log_marg;\n",
    "    \n",
    "fhat = f"
   ]
  },
  {
   "cell_type": "code",
   "execution_count": 49,
   "metadata": {
    "collapsed": false
   },
   "outputs": [
    {
     "name": "stderr",
     "output_type": "stream",
     "text": [
      "C:\\Users\\nimaq\\Anaconda2\\lib\\site-packages\\ipykernel\\__main__.py:20: RuntimeWarning: invalid value encountered in sqrt\n",
      "C:\\Users\\nimaq\\Anaconda2\\lib\\site-packages\\ipykernel\\__main__.py:26: RuntimeWarning: invalid value encountered in greater_equal\n",
      "C:\\Users\\nimaq\\Anaconda2\\lib\\site-packages\\ipykernel\\__main__.py:27: RuntimeWarning: invalid value encountered in less\n"
     ]
    },
    {
     "data": {
      "image/png": "[encoded data removed]",
      "text/plain": [
       "<matplotlib.figure.Figure at 0x6f54fd0>"
      ]
     },
     "metadata": {},
     "output_type": "display_data"
    }
   ],
   "source": [
    "npf = norm.pdf(fhat); cpyf = norm.cdf(y*fhat);\n",
    "    \n",
    "lp = np.log(cpyf);\n",
    "dlp = y*npf/cpyf #3.16\n",
    "d2lp = -npf**2/cpyf**2 - y*f*npf/cpyf # 3.16\n",
    "\n",
    "W = -1.*d2lp; sW = np.sqrt(W)\n",
    "B = np.eye(x.shape[0])+sW*K*sW #B=I+sqrt(W)*K*sqrt(W)   \n",
    "#B = make_PD(B)\n",
    "B = nearestSPD(B)\n",
    "L = cholesky(B, lower=True)\n",
    "    \n",
    "K_s = get_kernel(x_test, x, sigmaf, l, sigman);\n",
    "K_ss = get_kernel(x_test, x_test, sigmaf, l, sigman);\n",
    "\n",
    "fs = np.dot(K_s.T,dlp);\n",
    "v = np.dot(inv(L),(sW*K_s));\n",
    "\n",
    "y_test_var = np.diag(K_ss - np.dot(v.T,v));# uncertainty\n",
    "y_test_mean = norm.cdf(np.real(np.divide(fs[:,0],np.sqrt(1+y_test_var))));# best prediction\n",
    "\n",
    "plt.plot(x[y[:,0]==1,0], x[y[:,0]==1,1], 'r+', x[y[:,0]==-1,0], x[y[:,0]==-1,1], 'b+')\n",
    "plt.plot(x_test[y_test[:,0]==1,0], x_test[y_test[:,0]==1,1], 'r+', x_test[y_test[:,0]==-1,0], x_test[y_test[:,0]==-1,1], 'b+')\n",
    "\n",
    "\n",
    "plt.plot(x_test[y_test_mean>=0.5,0], x_test[y_test_mean>=0.5,1], 'o', markerfacecolor='None',markeredgecolor='r');\n",
    "plt.plot(x_test[y_test_mean<0.5,0], x_test[y_test_mean<0.5,1], 'o', markerfacecolor='None',markeredgecolor='b');\n",
    "\n",
    "plt.title('Gaussian Process Classification Results')\n",
    "plt.axis([-4, 4, -4, 4])\n",
    "plt.show()\n"
   ]
  },
  {
   "cell_type": "code",
   "execution_count": 6,
   "metadata": {
    "collapsed": false
   },
   "outputs": [],
   "source": [
    "def make_PD(A):\n",
    "    # gets a matrix and turns it into positive definit\n",
    "    for i in range(100):\n",
    "        print i,\n",
    "        try:\n",
    "            L = cholesky(A, lower=True);\n",
    "            print('positive def at %d iters\\n'%i);\n",
    "            return A\n",
    "        except:\n",
    "            A = A + np.finfo(float).eps*np.eye(A.shape[0]);#for stability\n",
    "            continue\n",
    "    return A"
   ]
  },
  {
   "cell_type": "code",
   "execution_count": 19,
   "metadata": {
    "collapsed": false
   },
   "outputs": [],
   "source": [
    "from numpy.linalg import svd, eig\n",
    "from numpy.linalg import cholesky as chol\n",
    "\n",
    "def nearestSPD(A):\n",
    "\n",
    "    r,c = A.shape;\n",
    "\n",
    "    B = (A + A.T)/2;\n",
    "    [U,Sigma,V] = svd(B);\n",
    "    Sigma = Sigma*np.eye(Sigma.size);\n",
    "    V = V.T\n",
    "    H = np.dot(V,np.dot(Sigma,V.T));\n",
    "    Ahat = (B+H)/2;\n",
    "\n",
    "    Ahat = (Ahat + Ahat.T)/2;\n",
    "\n",
    "    # test that Ahat is in fact PD. if it is not so, then tweak it just a bit.\n",
    "    k = 0;\n",
    "    while 1:\n",
    "        k = k + 1;\n",
    "        try:\n",
    "            cholesky(Ahat, lower=True);\n",
    "            return Ahat\n",
    "        except:\n",
    "            mineig = eig(Ahat)[0].min().real\n",
    "            Ahat = Ahat + (-1*mineig*k**2 + np.spacing(mineig))*np.eye(A.shape[0]);\n",
    "    return Ahat\n",
    "#an implementation of doi:10.1016/0024-3795(88)90223-6"
   ]
  },
  {
   "cell_type": "markdown",
   "metadata": {},
   "source": [
    "#### References\n",
    "###### Nicholas J. Higham, Computing a nearest symmetric positive semidefinite matrix, doi:10.1016/0024-3795(88)90223-6\n",
    "###### Gaussian Processes for Machine Learning Carl Edward Rasmussen and Christopher K. I. Williams The MIT Press, 2006."
   ]
  }
 ],
 "metadata": {
  "anaconda-cloud": {},
  "kernelspec": {
   "display_name": "Python [conda root]",
   "language": "python",
   "name": "conda-root-py"
  },
  "language_info": {
   "codemirror_mode": {
    "name": "ipython",
    "version": 2
   },
   "file_extension": ".py",
   "mimetype": "text/x-python",
   "name": "python",
   "nbconvert_exporter": "python",
   "pygments_lexer": "ipython2",
   "version": "2.7.12"
  }
 },
 "nbformat": 4,
 "nbformat_minor": 1
}
